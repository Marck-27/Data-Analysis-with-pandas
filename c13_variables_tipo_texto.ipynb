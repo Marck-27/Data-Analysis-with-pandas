{
 "cells": [
  {
   "cell_type": "markdown",
   "metadata": {},
   "source": [
    "# Proyecto: Trabajando con variables tipo texto en pandas\n",
    "\n",
    "### Algunas funciones usadas en este proyecto son:\n",
    "`.str.lower()` <- pasa el texto a minúsculas\n",
    "\n",
    "`.str.upper()` <- pasa el texto a mayúsculas\n",
    "\n",
    "`.str.capitalize()` <- Pone la primer letra en Mayúscula y el resto en minúscula\n",
    "\n",
    "`.str.len()` <- Extrae la longitud de textos (contando espacios)\n",
    "\n",
    "`.str.split(' ')` <- Separa las cadenas de texto cada que hay un espacio\n",
    "\n",
    "`.str.split('#')` <- Separa las cadenas de texto cada que hay un espacio\n",
    "\n",
    "`.str[:5]` <- Selecciona los primeros '5' carácteres\n",
    "\n",
    "`.str[-5:]` <- Selecciona los últimos '5' carácteres\n",
    "\n",
    "`.str.replace('texto_anterior','texto_nuevo')` <- Reemplaza cadenas de texto \n",
    "\n",
    "`.str.contains('porcion_texto')` <- Detecta un pedazo de texto específico\n",
    "\n",
    "`.str.lower().str.count('letra')` Detecta el número de véces en que aparece alguna letra específicada\n",
    "\n",
    "`.str.extract('([0-9]+)', expand=False)` <- Extrae los números que contienen las cadenas de texto\n"
   ]
  },
  {
   "cell_type": "code",
   "execution_count": 36,
   "metadata": {},
   "outputs": [],
   "source": [
    "import pandas as pd"
   ]
  },
  {
   "cell_type": "code",
   "execution_count": 2,
   "metadata": {},
   "outputs": [],
   "source": [
    "# Creamos un diccionario de datos\n",
    "data = {'names':['Sara Moreno 34',\n",
    "                 'jUAn GOMez 23',\n",
    "                 'CArlos mArtinez 89',\n",
    "                 'Alfredo VelaZques 3',\n",
    "                 'luis Mora 56',\n",
    "                 '@freddier #platzi 10',pd.NA]}"
   ]
  },
  {
   "cell_type": "code",
   "execution_count": 4,
   "metadata": {},
   "outputs": [
    {
     "data": {
      "text/html": [
       "<div>\n",
       "<style scoped>\n",
       "    .dataframe tbody tr th:only-of-type {\n",
       "        vertical-align: middle;\n",
       "    }\n",
       "\n",
       "    .dataframe tbody tr th {\n",
       "        vertical-align: top;\n",
       "    }\n",
       "\n",
       "    .dataframe thead th {\n",
       "        text-align: right;\n",
       "    }\n",
       "</style>\n",
       "<table border=\"1\" class=\"dataframe\">\n",
       "  <thead>\n",
       "    <tr style=\"text-align: right;\">\n",
       "      <th></th>\n",
       "      <th>names</th>\n",
       "    </tr>\n",
       "  </thead>\n",
       "  <tbody>\n",
       "    <tr>\n",
       "      <th>0</th>\n",
       "      <td>Sara Moreno 34</td>\n",
       "    </tr>\n",
       "    <tr>\n",
       "      <th>1</th>\n",
       "      <td>jUAn GOMez 23</td>\n",
       "    </tr>\n",
       "    <tr>\n",
       "      <th>2</th>\n",
       "      <td>CArlos mArtinez 89</td>\n",
       "    </tr>\n",
       "    <tr>\n",
       "      <th>3</th>\n",
       "      <td>Alfredo VelaZques 3</td>\n",
       "    </tr>\n",
       "    <tr>\n",
       "      <th>4</th>\n",
       "      <td>luis Mora 56</td>\n",
       "    </tr>\n",
       "    <tr>\n",
       "      <th>5</th>\n",
       "      <td>@freddier #platzi 10</td>\n",
       "    </tr>\n",
       "    <tr>\n",
       "      <th>6</th>\n",
       "      <td>&lt;NA&gt;</td>\n",
       "    </tr>\n",
       "  </tbody>\n",
       "</table>\n",
       "</div>"
      ],
      "text/plain": [
       "                  names\n",
       "0        Sara Moreno 34\n",
       "1         jUAn GOMez 23\n",
       "2    CArlos mArtinez 89\n",
       "3   Alfredo VelaZques 3\n",
       "4          luis Mora 56\n",
       "5  @freddier #platzi 10\n",
       "6                  <NA>"
      ]
     },
     "execution_count": 4,
     "metadata": {},
     "output_type": "execute_result"
    }
   ],
   "source": [
    "# pasamos el diccionario a un dataframe:\n",
    "df = pd.DataFrame(data)\n",
    "df"
   ]
  },
  {
   "cell_type": "code",
   "execution_count": 5,
   "metadata": {},
   "outputs": [
    {
     "data": {
      "text/plain": [
       "0          sara moreno 34\n",
       "1           juan gomez 23\n",
       "2      carlos martinez 89\n",
       "3     alfredo velazques 3\n",
       "4            luis mora 56\n",
       "5    @freddier #platzi 10\n",
       "6                    <NA>\n",
       "Name: names, dtype: object"
      ]
     },
     "execution_count": 5,
     "metadata": {},
     "output_type": "execute_result"
    }
   ],
   "source": [
    "# Pasamos el texto a minúsculas:\n",
    "df['names'].str.lower()"
   ]
  },
  {
   "cell_type": "code",
   "execution_count": 6,
   "metadata": {},
   "outputs": [
    {
     "data": {
      "text/plain": [
       "0          SARA MORENO 34\n",
       "1           JUAN GOMEZ 23\n",
       "2      CARLOS MARTINEZ 89\n",
       "3     ALFREDO VELAZQUES 3\n",
       "4            LUIS MORA 56\n",
       "5    @FREDDIER #PLATZI 10\n",
       "6                    <NA>\n",
       "Name: names, dtype: object"
      ]
     },
     "execution_count": 6,
     "metadata": {},
     "output_type": "execute_result"
    }
   ],
   "source": [
    "# Pasamos el texto a mayúsculas:\n",
    "df['names'].str.upper()"
   ]
  },
  {
   "cell_type": "code",
   "execution_count": 7,
   "metadata": {},
   "outputs": [
    {
     "data": {
      "text/plain": [
       "0          Sara moreno 34\n",
       "1           Juan gomez 23\n",
       "2      Carlos martinez 89\n",
       "3     Alfredo velazques 3\n",
       "4            Luis mora 56\n",
       "5    @freddier #platzi 10\n",
       "6                    <NA>\n",
       "Name: names, dtype: object"
      ]
     },
     "execution_count": 7,
     "metadata": {},
     "output_type": "execute_result"
    }
   ],
   "source": [
    "# Pone la primer letra en Mayúscula y el resto en minúscula\n",
    "df['names'].str.capitalize()"
   ]
  },
  {
   "cell_type": "code",
   "execution_count": 8,
   "metadata": {},
   "outputs": [
    {
     "data": {
      "text/plain": [
       "0      14\n",
       "1      13\n",
       "2      18\n",
       "3      19\n",
       "4      12\n",
       "5      20\n",
       "6    <NA>\n",
       "Name: names, dtype: object"
      ]
     },
     "execution_count": 8,
     "metadata": {},
     "output_type": "execute_result"
    }
   ],
   "source": [
    "# Extrae la longitud de textos (contando espacios)\n",
    "df['names'].str.len()"
   ]
  },
  {
   "cell_type": "code",
   "execution_count": 25,
   "metadata": {},
   "outputs": [
    {
     "data": {
      "text/plain": [
       "0          [Sara, Moreno, 34]\n",
       "1           [jUAn, GOMez, 23]\n",
       "2      [CArlos, mArtinez, 89]\n",
       "3     [Alfredo, VelaZques, 3]\n",
       "4            [luis, Mora, 56]\n",
       "5    [@freddier, #platzi, 10]\n",
       "6                        <NA>\n",
       "Name: names, dtype: object"
      ]
     },
     "execution_count": 25,
     "metadata": {},
     "output_type": "execute_result"
    }
   ],
   "source": [
    "# Separa las cadenas de texto cada que hay un espacio\n",
    "df['names'].str.split(' ')"
   ]
  },
  {
   "cell_type": "code",
   "execution_count": 26,
   "metadata": {},
   "outputs": [
    {
     "data": {
      "text/plain": [
       "['Sara Moreno 34']"
      ]
     },
     "execution_count": 26,
     "metadata": {},
     "output_type": "execute_result"
    }
   ],
   "source": [
    "df['names'].str.split('#')"
   ]
  },
  {
   "cell_type": "code",
   "execution_count": 27,
   "metadata": {},
   "outputs": [
    {
     "data": {
      "text/plain": [
       "0    Sara \n",
       "1    jUAn \n",
       "2    CArlo\n",
       "3    Alfre\n",
       "4    luis \n",
       "5    @fred\n",
       "6     <NA>\n",
       "Name: names, dtype: object"
      ]
     },
     "execution_count": 27,
     "metadata": {},
     "output_type": "execute_result"
    }
   ],
   "source": [
    "# Selecciona los primeros N carácteres\n",
    "df['names'].str[:5]"
   ]
  },
  {
   "cell_type": "code",
   "execution_count": 28,
   "metadata": {},
   "outputs": [
    {
     "data": {
      "text/plain": [
       "0    no 34\n",
       "1    ez 23\n",
       "2    ez 89\n",
       "3    ues 3\n",
       "4    ra 56\n",
       "5    zi 10\n",
       "6     <NA>\n",
       "Name: names, dtype: object"
      ]
     },
     "execution_count": 28,
     "metadata": {},
     "output_type": "execute_result"
    }
   ],
   "source": [
    "# Selecciona los últimos N carácteres\n",
    "df['names'].str[-5:]"
   ]
  },
  {
   "cell_type": "code",
   "execution_count": 29,
   "metadata": {},
   "outputs": [
    {
     "data": {
      "text/plain": [
       "0          Sara Moreno 34\n",
       "1           jUAn GOMez 23\n",
       "2      CArlos mArtinez 89\n",
       "3     Antonio VelaZques 3\n",
       "4            luis Mora 56\n",
       "5    @freddier #platzi 10\n",
       "6                    <NA>\n",
       "Name: names, dtype: object"
      ]
     },
     "execution_count": 29,
     "metadata": {},
     "output_type": "execute_result"
    }
   ],
   "source": [
    "# Reemplaza cadenas de texto\n",
    "df['names'].str.replace('Alfredo','Antonio')"
   ]
  },
  {
   "cell_type": "code",
   "execution_count": 30,
   "metadata": {},
   "outputs": [
    {
     "data": {
      "text/plain": [
       "0     True\n",
       "1    False\n",
       "2    False\n",
       "3    False\n",
       "4     True\n",
       "5    False\n",
       "6     <NA>\n",
       "Name: names, dtype: object"
      ]
     },
     "execution_count": 30,
     "metadata": {},
     "output_type": "execute_result"
    }
   ],
   "source": [
    "# Detecta un pedazo de texto específico\n",
    "df['names'].str.contains('or')"
   ]
  },
  {
   "cell_type": "code",
   "execution_count": 31,
   "metadata": {},
   "outputs": [
    {
     "data": {
      "text/plain": [
       "0       2\n",
       "1       1\n",
       "2       2\n",
       "3       2\n",
       "4       1\n",
       "5       1\n",
       "6    <NA>\n",
       "Name: names, dtype: object"
      ]
     },
     "execution_count": 31,
     "metadata": {},
     "output_type": "execute_result"
    }
   ],
   "source": [
    "# Detecta el número de véces en que aparece alguna letra \n",
    "df['names'].str.lower().str.count('a')"
   ]
  },
  {
   "cell_type": "code",
   "execution_count": 32,
   "metadata": {},
   "outputs": [
    {
     "data": {
      "text/plain": [
       "0     34\n",
       "1     23\n",
       "2     89\n",
       "3      3\n",
       "4     56\n",
       "5     10\n",
       "6    NaN\n",
       "Name: names, dtype: object"
      ]
     },
     "execution_count": 32,
     "metadata": {},
     "output_type": "execute_result"
    }
   ],
   "source": [
    "# Extrae los números que contiene una cadena de texto\n",
    "df['names'].str.extract('([0-9]+)', expand=False)"
   ]
  },
  {
   "cell_type": "code",
   "execution_count": null,
   "metadata": {},
   "outputs": [],
   "source": []
  }
 ],
 "metadata": {
  "interpreter": {
   "hash": "916dbcbb3f70747c44a77c7bcd40155683ae19c65e1c03b4aa3499c5328201f1"
  },
  "kernelspec": {
   "display_name": "Python 3.8.10 64-bit",
   "name": "python3"
  },
  "language_info": {
   "codemirror_mode": {
    "name": "ipython",
    "version": 3
   },
   "file_extension": ".py",
   "mimetype": "text/x-python",
   "name": "python",
   "nbconvert_exporter": "python",
   "pygments_lexer": "ipython3",
   "version": "3.8.10"
  },
  "orig_nbformat": 4
 },
 "nbformat": 4,
 "nbformat_minor": 2
}
